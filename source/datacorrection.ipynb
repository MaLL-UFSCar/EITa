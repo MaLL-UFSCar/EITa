{
 "cells": [
  {
   "cell_type": "code",
   "execution_count": 1,
   "metadata": {
    "collapsed": true
   },
   "outputs": [],
   "source": [
    "import pandas as pd\n",
    "import numpy as np\n",
    "import csv"
   ]
  },
  {
   "cell_type": "code",
   "execution_count": 2,
   "metadata": {
    "collapsed": true
   },
   "outputs": [],
   "source": [
    "#Metodo que transforma texto em lista. Serve somente para o formato da última coluna do dataset\n",
    "def strToList(array):\n",
    "    array = array.replace(\"'\",\"\")\n",
    "    array = array.replace(\"[\",\"\")\n",
    "    array = array.replace(\"]\",\"\")\n",
    "    array = array.replace(\" \",\"\")\n",
    "    array = array.split(\",\")\n",
    "    return array[:]"
   ]
  },
  {
   "cell_type": "code",
   "execution_count": 3,
   "metadata": {
    "collapsed": true
   },
   "outputs": [],
   "source": [
    "#Dados de entrada e corrigidos\n",
    "original = \"../data/data.csv\"\n",
    "adjusted = \"../data/adjusted_data.csv\""
   ]
  },
  {
   "cell_type": "code",
   "execution_count": 4,
   "metadata": {
    "collapsed": true
   },
   "outputs": [],
   "source": [
    "#Carregando dados\n",
    "rawData = []\n",
    "with open(original, 'r') as f:\n",
    "    for line in f:\n",
    "        rawData.append(line)\n",
    "#Corrigindo erro de imporatção\n",
    "s = \"\\'\"\n",
    "d = \"\\\"\"\n",
    "for i in range(0,len(rawData)):\n",
    "    rawData[i] = rawData[i].replace(d,s)\n",
    "    rawData[i] = rawData[i].replace(\"[\",'\\\"[')\n",
    "    rawData[i] = rawData[i].replace(\"]\",']\\\"')\n",
    "\n",
    "    \n",
    "with open(adjusted, 'w') as f:\n",
    "    for row in rawData:\n",
    "        f.write(row)"
   ]
  }
 ],
 "metadata": {
  "kernelspec": {
   "display_name": "Python 2",
   "language": "python",
   "name": "python2"
  },
  "language_info": {
   "codemirror_mode": {
    "name": "ipython",
    "version": 2
   },
   "file_extension": ".py",
   "mimetype": "text/x-python",
   "name": "python",
   "nbconvert_exporter": "python",
   "pygments_lexer": "ipython2",
   "version": "2.7.13+"
  }
 },
 "nbformat": 4,
 "nbformat_minor": 2
}
