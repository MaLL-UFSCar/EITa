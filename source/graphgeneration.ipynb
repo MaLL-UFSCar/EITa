{
 "cells": [
  {
   "cell_type": "code",
   "execution_count": 1,
   "metadata": {},
   "outputs": [],
   "source": [
    "import snap\n",
    "import pandas as pd\n",
    "import numpy as np"
   ]
  },
  {
   "cell_type": "code",
   "execution_count": 2,
   "metadata": {},
   "outputs": [],
   "source": [
    "#Metodo que transforma texto em lista. Serve somente para o formato da última coluna do dataset\n",
    "def strToList(array):\n",
    "    array = array.replace(\"'\",\"\")\n",
    "    array = array.replace(\"[\",\"\")\n",
    "    array = array.replace(\"]\",\"\")\n",
    "    array = array.replace(\" \",\"\")\n",
    "    array = array.split(\",\")\n",
    "    return array[:]"
   ]
  },
  {
   "cell_type": "code",
   "execution_count": 3,
   "metadata": {},
   "outputs": [],
   "source": [
    "#Lendo o arquivo corrigido\n",
    "adjusted = \"../data/adjusted_data.csv\"\n",
    "s = \"\\'\"\n",
    "data = pd.read_csv(adjusted)"
   ]
  },
  {
   "cell_type": "code",
   "execution_count": 4,
   "metadata": {},
   "outputs": [],
   "source": [
    "#Gerando um dicionário com os ids\n",
    "ids = {}\n",
    "\n",
    "for i in data.index:\n",
    "    person_id = data.iloc[i,0].replace(s, \"\")\n",
    "    ids[person_id] = i"
   ]
  },
  {
   "cell_type": "markdown",
   "metadata": {},
   "source": [
    "## Gerando grafo do snap"
   ]
  },
  {
   "cell_type": "code",
   "execution_count": 5,
   "metadata": {},
   "outputs": [],
   "source": [
    "G = snap.TNGraph.New()"
   ]
  },
  {
   "cell_type": "code",
   "execution_count": 6,
   "metadata": {},
   "outputs": [
    {
     "name": "stdout",
     "output_type": "stream",
     "text": [
      "G: Nodes 40000, Edges 95496\n"
     ]
    }
   ],
   "source": [
    "for i in data.index:\n",
    "    #Gerando os nós\n",
    "    node = ids[str(data.iloc[i,0]).replace(s,\"\")]\n",
    "    G.AddNode(node)\n",
    "    \n",
    "    #Gerando as arestas\n",
    "    friends = strToList(data.iloc[i,-1])\n",
    "    for friend in friends:\n",
    "        try:\n",
    "            G.AddEdge(i,ids[friend])\n",
    "        except:\n",
    "            pass\n",
    "        \n",
    "print \"G: Nodes %d, Edges %d\" % (G.GetNodes(), G.GetEdges())"
   ]
  },
  {
   "cell_type": "code",
   "execution_count": 7,
   "metadata": {},
   "outputs": [
    {
     "name": "stdout",
     "output_type": "stream",
     "text": [
      "G: Nodes 30608, Edges 95496\n"
     ]
    }
   ],
   "source": [
    "snap.DelZeroDegNodes(G)\n",
    "print \"G: Nodes %d, Edges %d\" % (G.GetNodes(), G.GetEdges())"
   ]
  },
  {
   "cell_type": "code",
   "execution_count": 8,
   "metadata": {},
   "outputs": [],
   "source": [
    "#Salvando o grafo\n",
    "snap.SaveEdgeList(G, \"grafo.txt\", \"Save as tab-separated list of edges\")"
   ]
  },
  {
   "cell_type": "code",
   "execution_count": 9,
   "metadata": {},
   "outputs": [
    {
     "data": {
      "text/plain": [
       "id                                                      '189283341'\n",
       "screenName                                               'GreysABC'\n",
       "tags                                          [ '#nationaldogday' ]\n",
       "avatar            'http://pbs.twimg.com/profile_images/523161364...\n",
       "followersCount                                              2446071\n",
       "friendsCount                                                    258\n",
       "lang                                                           'en'\n",
       "lastSeen                                              1472249841086\n",
       "tweetId                                        '769293803714973698'\n",
       "friends           [ '73273614', '247100518', '1972292287', '3523...\n",
       "Name: 4040, dtype: object"
      ]
     },
     "execution_count": 9,
     "metadata": {},
     "output_type": "execute_result"
    }
   ],
   "source": [
    "data.iloc[4040,:]"
   ]
  },
  {
   "cell_type": "code",
   "execution_count": null,
   "metadata": {},
   "outputs": [],
   "source": []
  }
 ],
 "metadata": {
  "kernelspec": {
   "display_name": "Python 2",
   "language": "python",
   "name": "python2"
  },
  "language_info": {
   "codemirror_mode": {
    "name": "ipython",
    "version": 2
   },
   "file_extension": ".py",
   "mimetype": "text/x-python",
   "name": "python",
   "nbconvert_exporter": "python",
   "pygments_lexer": "ipython2",
   "version": "2.7.12"
  }
 },
 "nbformat": 4,
 "nbformat_minor": 2
}
