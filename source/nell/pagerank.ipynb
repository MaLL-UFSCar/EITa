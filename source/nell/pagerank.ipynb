{
 "cells": [
  {
   "cell_type": "code",
   "execution_count": 2,
   "metadata": {
    "collapsed": false
   },
   "outputs": [
    {
     "name": "stderr",
     "output_type": "stream",
     "text": [
      "/Users/lftomazini/anaconda/lib/python2.7/site-packages/matplotlib/font_manager.py:273: UserWarning: Matplotlib is building the font cache using fc-list. This may take a moment.\n",
      "  warnings.warn('Matplotlib is building the font cache using fc-list. This may take a moment.')\n"
     ]
    }
   ],
   "source": [
    "import csv\n",
    "import sys\n",
    "import networkx as nx\n",
    "import matplotlib.pyplot as plt"
   ]
  },
  {
   "cell_type": "code",
   "execution_count": 3,
   "metadata": {
    "collapsed": false
   },
   "outputs": [
    {
     "data": {
      "text/plain": [
       "[(u'sportsLeague', u'sportsTeam', {'relation_name': 'teamPlaysInLeague'}),\n",
       " (u'sportsLeague', u'athlete', {'relation_name': 'leaguePlayers'}),\n",
       " (u'sportsLeague', u'coach', {'relation_name': 'leagueCoaches'}),\n",
       " (u'sportsLeague',\n",
       "  u'stadiumOrEventVenue',\n",
       "  {'relation_name': 'stadiumHomeToLeague'}),\n",
       " (u'coach', u'athlete', {'relation_name': 'coachesAthlete'}),\n",
       " (u'coach', u'sportsTeam', {'relation_name': 'teamCoach'}),\n",
       " (u'coach', u'awardTrophyTournament', {'relation_name': 'trophyWonByCoaches'}),\n",
       " (u'mlAuthor', u'mlSoftware', {'relation_name': 'mlSoftwareAuthor'}),\n",
       " (u'mlAuthor', u'mlArea', {'relation_name': 'mlAuthorExpertIn'}),\n",
       " (u'visualArtist', u'visualArtForm', {'relation_name': 'visualArtFormArtist'}),\n",
       " (u'visualArtist',\n",
       "  u'visualArtMovement',\n",
       "  {'relation_name': 'visualArtMovementArtist'}),\n",
       " (u'economicSector', u'company', {'relation_name': 'economicSectorCompany'}),\n",
       " (u'currency', u'country', {'relation_name': 'currencyCountry'}),\n",
       " (u'stateOrProvince', u'city', {'relation_name': 'stateHasCapital'}),\n",
       " (u'stateOrProvince', u'country', {'relation_name': 'stateLocatedInCountry'}),\n",
       " (u'event', u'date', {'relation_name': 'eventDate'}),\n",
       " (u'city', u'country', {'relation_name': 'countryCities'}),\n",
       " (u'city', u'company', {'relation_name': 'headquarteredIn'}),\n",
       " (u'city', u'sportsTeam', {'relation_name': 'teamPlaysInCity'}),\n",
       " (u'city', u'televisionStation', {'relation_name': 'televisionStationInCity'}),\n",
       " (u'city', u'radioStation', {'relation_name': 'radioStationInCity'}),\n",
       " (u'city', u'newspaper', {'relation_name': 'newspaperInCity'}),\n",
       " (u'city', u'stadiumOrEventVenue', {'relation_name': 'stadiumLocatedInCity'}),\n",
       " (u'sport', u'sportsEquipment', {'relation_name': 'sportUsesEquipment'}),\n",
       " (u'sport', u'sportsGame', {'relation_name': 'sportSportsGameExample'}),\n",
       " (u'sport', u'athlete', {'relation_name': 'players'}),\n",
       " (u'sport', u'sportsTeam', {'relation_name': 'teamPlaysSport'}),\n",
       " (u'sport', u'stadiumOrEventVenue', {'relation_name': 'stadiumHomeToSport'}),\n",
       " (u'publication', u'person', {'relation_name': 'publicationWritesAbout'}),\n",
       " (u'publication', u'journalist', {'relation_name': 'publicationJournalist'}),\n",
       " (u'item', u'company', {'relation_name': 'typeProducedBy'}),\n",
       " (u'item', u'product', {'relation_name': 'productInstances'}),\n",
       " (u'movie', u'actor', {'relation_name': 'movieStarActor'}),\n",
       " (u'writer', u'book', {'relation_name': 'bookWriter'}),\n",
       " (u'sportsTeam', u'athlete', {'relation_name': 'teamMember'}),\n",
       " (u'sportsTeam', u'sportsTeam', {'relation_name': 'teamPlaysAgainstTeam'}),\n",
       " (u'sportsTeam', u'sportsGame', {'relation_name': 'winnerInGame'}),\n",
       " (u'sportsTeam', u'stadiumOrEventVenue', {'relation_name': 'teamHomeStadium'}),\n",
       " (u'sportsTeam',\n",
       "  u'awardTrophyTournament',\n",
       "  {'relation_name': 'trophyWonByTeam'}),\n",
       " (u'musicInstrument',\n",
       "  u'musician',\n",
       "  {'relation_name': 'musicianPlaysInstrument'}),\n",
       " (u'musicGenre', u'musicArtist', {'relation_name': 'musicGenreArtist'}),\n",
       " (u'musicArtist', u'musician', {'relation_name': 'musicianInMusicArtist'}),\n",
       " (u'everyPromotedThing',\n",
       "  u'sportsGame',\n",
       "  {'relation_name': 'sportsGameWinnerScore'}),\n",
       " (u'everyPromotedThing',\n",
       "  u'everyPromotedThing',\n",
       "  {'relation_name': 'synonymFor'}),\n",
       " (u'product', u'company', {'relation_name': 'producesProduct'}),\n",
       " (u'ceo', u'company', {'relation_name': 'companyCeo'}),\n",
       " (u'company', u'country', {'relation_name': 'hasOfficeInCountry'}),\n",
       " (u'company', u'company', {'relation_name': 'competesWith'}),\n",
       " (u'televisionStation',\n",
       "  u'televisionNetwork',\n",
       "  {'relation_name': 'televisionStationAffiliatedWith'}),\n",
       " (u'stadiumOrEventVenue',\n",
       "  u'athlete',\n",
       "  {'relation_name': 'stadiumHomeToAthlete'}),\n",
       " (u'country', u'person', {'relation_name': 'leaderOfCountry'}),\n",
       " (u'athlete', u'athlete', {'relation_name': 'teammate'}),\n",
       " (u'person', u'organization', {'relation_name': 'worksFor'})]"
      ]
     },
     "execution_count": 3,
     "metadata": {},
     "output_type": "execute_result"
    }
   ],
   "source": [
    "G = nx.read_edgelist('relations.csv', delimiter=';', data=(('relation_name',str),))\n",
    "G.edges(data=True)"
   ]
  },
  {
   "cell_type": "code",
   "execution_count": 4,
   "metadata": {
    "collapsed": false
   },
   "outputs": [
    {
     "name": "stdout",
     "output_type": "stream",
     "text": [
      "city: 0.0610872518145\n",
      "company: 0.0577344447636\n",
      "sportsTeam: 0.0544696975149\n",
      "country: 0.0422992612484\n",
      "athlete: 0.0354681249563\n",
      "visualArtist: 0.0342767576293\n",
      "mlAuthor: 0.0342767576293\n",
      "sport: 0.0321613753298\n",
      "stadiumOrEventVenue: 0.0312053898448\n",
      "person: 0.0305585366751\n",
      "musician: 0.0304731355253\n",
      "musicArtist: 0.0304731355253\n",
      "coach: 0.0245248106684\n",
      "sportsLeague: 0.0242278195667\n",
      "writer: 0.0232558139535\n",
      "movie: 0.0232558139535\n",
      "event: 0.0232558139535\n",
      "date: 0.0232558139535\n",
      "book: 0.0232558139535\n",
      "actor: 0.0232558139535\n",
      "publication: 0.0228339006584\n",
      "sportsGame: 0.0204949125404\n",
      "televisionStation: 0.018976338152\n",
      "visualArtMovement: 0.0177453421156\n",
      "visualArtForm: 0.0177453421156\n",
      "mlSoftware: 0.0177453421156\n",
      "mlArea: 0.0177453421156\n",
      "product: 0.0177246967285\n",
      "item: 0.0177246967285\n",
      "stateOrProvince: 0.0168117651811\n",
      "musicInstrument: 0.0160384923817\n",
      "musicGenre: 0.0160384923817\n",
      "everyPromotedThing: 0.0154073696184\n",
      "awardTrophyTournament: 0.0132906320435\n",
      "journalist: 0.0126008380134\n",
      "organization: 0.0114931441566\n",
      "televisionNetwork: 0.0108649338046\n",
      "currency: 0.00993944913068\n",
      "economicSector: 0.00974858228364\n",
      "ceo: 0.00974858228364\n",
      "radioStation: 0.00919789744579\n",
      "newspaper: 0.00919789744579\n",
      "sportsEquipment: 0.00811462814666\n"
     ]
    }
   ],
   "source": [
    "pr = nx.pagerank(G, 0.9)\n",
    "for key, value in sorted(pr.iteritems(), key=lambda (k,v): (v,k), reverse=True):\n",
    "\tprint \"%s: %s\" % (key, value)"
   ]
  }
 ],
 "metadata": {
  "anaconda-cloud": {},
  "kernelspec": {
   "display_name": "Python [default]",
   "language": "python",
   "name": "python2"
  },
  "language_info": {
   "codemirror_mode": {
    "name": "ipython",
    "version": 2
   },
   "file_extension": ".py",
   "mimetype": "text/x-python",
   "name": "python",
   "nbconvert_exporter": "python",
   "pygments_lexer": "ipython2",
   "version": "2.7.12"
  }
 },
 "nbformat": 4,
 "nbformat_minor": 1
}
